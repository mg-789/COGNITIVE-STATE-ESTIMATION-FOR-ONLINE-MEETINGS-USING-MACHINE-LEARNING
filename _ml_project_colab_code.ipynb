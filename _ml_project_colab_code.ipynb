{
  "nbformat": 4,
  "nbformat_minor": 0,
  "metadata": {
    "accelerator": "GPU",
    "colab": {
      "name": "Nazera_ml_project_colab_code.ipynb",
      "provenance": [],
      "collapsed_sections": [],
      "machine_shape": "hm",
      "include_colab_link": true
    },
    "kernelspec": {
      "display_name": "Python 3",
      "name": "python3"
    }
  },
  "cells": [
    {
      "cell_type": "markdown",
      "metadata": {
        "id": "view-in-github",
        "colab_type": "text"
      },
      "source": [
        "<a href=\"https://colab.research.google.com/github/mg-789/COGNITIVE-STATE-ESTIMATION-FOR-ONLINE-MEETINGS-USING-MACHINE-LEARNING/blob/main/_ml_project_colab_code.ipynb\" target=\"_parent\"><img src=\"https://colab.research.google.com/assets/colab-badge.svg\" alt=\"Open In Colab\"/></a>"
      ]
    },
    {
      "cell_type": "code",
      "metadata": {
        "id": "cOttamhH63Jf",
        "colab": {
          "base_uri": "https://localhost:8080/"
        },
        "outputId": "d351706c-664a-4680-ee76-5704e336ffdb"
      },
      "source": [
        "from google.colab import drive\n",
        "drive.mount('/content/drive')"
      ],
      "execution_count": null,
      "outputs": [
        {
          "output_type": "stream",
          "text": [
            "Mounted at /content/drive\n"
          ],
          "name": "stdout"
        }
      ]
    },
    {
      "cell_type": "code",
      "metadata": {
        "id": "f8hfTIpkaGKP"
      },
      "source": [
        ""
      ],
      "execution_count": null,
      "outputs": []
    },
    {
      "cell_type": "code",
      "metadata": {
        "id": "4kf6_wEx65MJ"
      },
      "source": [
        "# 4.2 Data preparation step\n",
        "import pandas as panda\n",
        "import numpy as numpy\n",
        "import seaborn as sns\n",
        "from matplotlib import pyplot\n",
        "data_fram = panda.read_csv(\"/content/drive/My Drive/Colab Notebooks/fer2013.csv\")\n",
        "\n",
        "sns.countplot(data_fram.emotion)\n",
        "pyplot.show()\n",
        "#print(data_fram) #number with disgust emotion [35887 rows x 3 columns]\n",
        "data_frame=data_fram.loc[data_fram['emotion'] != 1]\n",
        "#data_frame11=data_frame.loc[data_fram['emotion'] != 0]\n",
        "#data_frame1=data_frame11.loc[data_fram['emotion'] != 2]\n",
        "#data_frame2=data_frame1.loc[data_fram['emotion'] != 5]\n",
        "#data_frame3=data_frame2.loc[data_fram['emotion'] != 6]\n",
        "print(data_frame) #number without disgust emotion [35340 rows x 3 columns], we use it in model\n",
        "\n",
        "\n"
      ],
      "execution_count": null,
      "outputs": []
    },
    {
      "cell_type": "code",
      "metadata": {
        "colab": {
          "base_uri": "https://localhost:8080/"
        },
        "id": "bAxXX2epEYR3",
        "outputId": "a73d8576-17f0-4514-b48e-6fbc42f153de"
      },
      "source": [
        "\n",
        "import pandas as panda\n",
        "import numpy as numpy\n",
        "import seaborn as sns\n",
        "from matplotlib import pyplot\n",
        "data_frame = panda.read_csv(\"/content/drive/My Drive/Colab Notebooks/fer2013.csv\")\n",
        "INTERESTED_LABELS = [0, 4]\n",
        "data_frame = data_frame[data_frame.emotion.isin(INTERESTED_LABELS)]\n",
        "data_frame.shape"
      ],
      "execution_count": null,
      "outputs": [
        {
          "output_type": "execute_result",
          "data": {
            "text/plain": [
              "(11030, 3)"
            ]
          },
          "metadata": {
            "tags": []
          },
          "execution_count": 5
        }
      ]
    },
    {
      "cell_type": "code",
      "metadata": {
        "id": "k3ogecfsaPt8"
      },
      "source": [
        "# Draw a bar chart representing the count of each emotion\n",
        "# Draw the accurecy and loss graph\n",
        "import seaborn as sns\n",
        "from matplotlib import pyplot\n",
        "\n",
        "sns.set()\n",
        "\n",
        "sns.countplot(data_frame.emotion)\n",
        "pyplot.show()"
      ],
      "execution_count": null,
      "outputs": []
    },
    {
      "cell_type": "code",
      "metadata": {
        "id": "7bSLI6k-7Zqa"
      },
      "source": [
        "def convert_images_to_gray_scale():\n",
        "    gray_images = data_frame.pixels.apply(convert_from_pixel_array_to_image_array)\n",
        "    gray_images = numpy.stack(gray_images, axis=0)\n",
        "    return gray_images\n",
        "\n",
        "def convert_from_pixel_array_to_image_array(pixel_array):\n",
        "    pixel_array = numpy.array(pixel_array.split(\" \"))\n",
        "    pixel_array = pixel_array.reshape(48, 48, 1)\n",
        "    pixel_array = pixel_array.astype(\"float32\")\n",
        "    return pixel_array\n",
        "\n",
        "def split_data():\n",
        "    X_train, X_valid, y_train, y_valid = train_test_split(\n",
        "        gray_image, image_label,\n",
        "        test_size=0.2, shuffle=True,\n",
        "        random_state=42, stratify=image_label\n",
        "    )\n",
        "    return X_train, X_valid, y_train, y_valid"
      ],
      "execution_count": null,
      "outputs": []
    },
    {
      "cell_type": "code",
      "metadata": {
        "id": "C04DSzdBTugY"
      },
      "source": [
        "gray_image = convert_images_to_gray_scale()"
      ],
      "execution_count": null,
      "outputs": []
    },
    {
      "cell_type": "code",
      "metadata": {
        "id": "OLkEsn6kTzmW"
      },
      "source": [
        "# Making images compatible to the model\n",
        "from sklearn.preprocessing import LabelEncoder\n",
        "from keras.utils import np_utils\n",
        "number = LabelEncoder()\n",
        "# Convert the array to class vector, then converts this class vector to binary class matrix\n",
        "image_label = np_utils.to_categorical(number.fit_transform(data_frame.emotion))\n",
        "\n",
        "# Splitting Data\n",
        "from sklearn.model_selection import train_test_split\n",
        "X_train, X_valid, y_train, y_valid = split_data()\n",
        "# Normalize the image arrays using min-max normalization. For gray-scaled images min=0 and max=255\n",
        "X_train = X_train / 255.\n",
        "X_valid = X_valid / 255."
      ],
      "execution_count": null,
      "outputs": []
    },
    {
      "cell_type": "code",
      "metadata": {
        "id": "5L7HWzdlU1fZ"
      },
      "source": [
        "#Train and Test Model \n",
        "from sklearn.model_selection import train_test_split\n",
        "from sklearn.preprocessing import LabelEncoder\n",
        "\n",
        "import tensorflow as tf\n",
        "from tensorflow.keras.models import Sequential\n",
        "from tensorflow.keras.layers import Flatten, Dense, Conv2D, MaxPooling2D\n",
        "from tensorflow.keras.layers import Dropout, BatchNormalization, Activation\n",
        "from tensorflow.keras.preprocessing.image import ImageDataGenerator\n",
        "\n",
        "from keras.utils import np_utils\n",
        "\n",
        "\n",
        "\n",
        "def get_conv2D(filters, kernel_size):\n",
        "    return Conv2D(\n",
        "          filters=filters,\n",
        "          kernel_size=kernel_size,\n",
        "          input_shape=(48, 48, 1),\n",
        "          activation='relu',\n",
        "          padding='same',\n",
        "          kernel_initializer='he_normal'\n",
        "    )\n",
        "\n",
        "model = Sequential()\n",
        "\n",
        "model.add(get_conv2D(64, (5, 5)))\n",
        "model.add(BatchNormalization())\n",
        "model.add(get_conv2D(64, (5, 5)))\n",
        "model.add(BatchNormalization())\n",
        "model.add(MaxPooling2D(pool_size=(2,2)))\n",
        "model.add(Dropout(0.4))  \n",
        "\n",
        "model.add(get_conv2D(128, (3, 3)))\n",
        "model.add(BatchNormalization())\n",
        "model.add(get_conv2D(128, (3, 3)))\n",
        "model.add(BatchNormalization())\n",
        "model.add(MaxPooling2D(pool_size=(2,2)))\n",
        "model.add(Dropout(0.4))\n",
        "\n",
        "model.add(get_conv2D(256, (3, 3)))\n",
        "model.add(BatchNormalization())\n",
        "model.add(get_conv2D(256, (3, 3)))\n",
        "model.add(BatchNormalization())\n",
        "model.add(MaxPooling2D(pool_size=(2,2)))\n",
        "model.add(Dropout(0.5))\n",
        "\n",
        "model.add(Flatten())    \n",
        "model.add(Dense(128, activation='relu', kernel_initializer='he_normal'))\n",
        "model.add(BatchNormalization())\n",
        "model.add(Dropout(0.6))\n",
        "model.add(Dense(2, activation='softmax'))\n",
        "\n",
        "model.compile(loss=\n",
        "              'categorical_crossentropy', optimizer='adam', metrics=['accuracy'])\n",
        "\n",
        "train = ImageDataGenerator(rotation_range=15, width_shift_range=0.15, height_shift_range=0.15,shear_range=0.15,zoom_range=0.15,horizontal_flip=True)\n",
        "\n",
        "train.fit(X_train)\n",
        "\n",
        "result = model.fit_generator(train.flow(X_train, y_train, batch_size=32),validation_data=(X_valid, y_valid),\n",
        "                             steps_per_epoch=len(X_train) / 32,epochs=100,use_multiprocessing=True)"
      ],
      "execution_count": null,
      "outputs": []
    },
    {
      "cell_type": "code",
      "metadata": {
        "id": "Mx0fZJJVpHdM"
      },
      "source": [
        "from sklearn.model_selection import train_test_split\n",
        "from sklearn.preprocessing import LabelEncoder\n",
        "import tensorflow as tf\n",
        "from tensorflow.keras.models import Sequential\n",
        "from tensorflow.keras.layers import Flatten, Dense, Conv2D, MaxPooling2D\n",
        "from tensorflow.keras.layers import Dropout, BatchNormalization, Activation\n",
        "from tensorflow.keras.preprocessing.image import ImageDataGenerator\n",
        "from keras.utils import np_utils\n",
        "\n",
        "def get_conv2D(filters, kernel_size):\n",
        "    return Conv2D(\n",
        "          filters=filters,\n",
        "          kernel_size=kernel_size,\n",
        "          input_shape=(48, 48, 1),\n",
        "          activation='elu',\n",
        "          padding='same',\n",
        "          kernel_initializer='he_normal'\n",
        "    )\n",
        "\n",
        "model = Sequential()\n",
        "\n",
        "model.add(get_conv2D(64, (5, 5)))\n",
        "model.add(BatchNormalization())\n",
        "model.add(get_conv2D(64, (5, 5)))\n",
        "model.add(BatchNormalization())\n",
        "model.add(MaxPooling2D(pool_size=(2,2)))\n",
        "model.add(Dropout(0.4))\n",
        "\n",
        "model.add(get_conv2D(128, (3, 3)))\n",
        "model.add(BatchNormalization())\n",
        "model.add(get_conv2D(128, (3, 3)))\n",
        "model.add(BatchNormalization())\n",
        "model.add(MaxPooling2D(pool_size=(2,2)))\n",
        "model.add(Dropout(0.4))\n",
        "\n",
        "model.add(get_conv2D(256, (3, 3)))\n",
        "model.add(BatchNormalization())\n",
        "model.add(get_conv2D(256, (3, 3)))\n",
        "model.add(BatchNormalization())\n",
        "model.add(MaxPooling2D(pool_size=(2,2)))\n",
        "model.add(Dropout(0.5))\n",
        "\n",
        "model.add(Flatten())    \n",
        "model.add(Dense(128, activation='elu', kernel_initializer='he_normal'))\n",
        "model.add(BatchNormalization())\n",
        "model.add(Dropout(0.6))\n",
        "model.add(Dense(6, activation='softmax')) ###\n",
        "\n",
        "model.compile(loss='categorical_crossentropy', optimizer='adam', metrics=['accuracy'])\n",
        "\n",
        "train_datagen = ImageDataGenerator(\n",
        "    rotation_range=15,\n",
        "    width_shift_range=0.15,\n",
        "    height_shift_range=0.15,\n",
        "    shear_range=0.15,\n",
        "    zoom_range=0.15,\n",
        "    horizontal_flip=True,\n",
        ")\n",
        "\n",
        "train_datagen.fit(X_train)\n",
        "\n",
        "history = model.fit_generator(\n",
        "    train_datagen.flow(X_train, y_train, batch_size=32),\n",
        "    validation_data=(X_valid, y_valid),\n",
        "    steps_per_epoch=len(X_train) / 32,\n",
        "    epochs=100,\n",
        "    use_multiprocessing=True\n",
        ")\n",
        "\n"
      ],
      "execution_count": null,
      "outputs": []
    },
    {
      "cell_type": "code",
      "metadata": {
        "id": "7GjlXuLF9yVp"
      },
      "source": [
        ""
      ],
      "execution_count": null,
      "outputs": []
    },
    {
      "cell_type": "code",
      "metadata": {
        "id": "KWnG29Ux9ye1"
      },
      "source": [
        "\n",
        "from tensorflow.keras import optimizers\n",
        "from sklearn.model_selection import train_test_split\n",
        "from sklearn.preprocessing import LabelEncoder\n",
        "\n",
        "import tensorflow as tf\n",
        "from tensorflow.keras.models import Sequential\n",
        "from tensorflow.keras.layers import Flatten, Dense, Conv2D, MaxPooling2D\n",
        "from tensorflow.keras.layers import Dropout, BatchNormalization, Activation\n",
        "from tensorflow.keras.preprocessing.image import ImageDataGenerator\n",
        "\n",
        "from keras.utils import np_utils\n",
        "\n",
        "def get_conv2D(filters, kernel_size):\n",
        "    return Conv2D(\n",
        "          filters=filters,\n",
        "          kernel_size=kernel_size,\n",
        "          input_shape=(48, 48, 1),\n",
        "          activation='relu',\n",
        "          padding='same',\n",
        "          kernel_initializer='he_normal'\n",
        "    )\n",
        "def model_3(optim):\n",
        "  model = Sequential()\n",
        "  model.add(get_conv2D(64, (5, 5)))\n",
        "  model.add(BatchNormalization())\n",
        "  model.add(get_conv2D(64, (5, 5)))\n",
        "  model.add(BatchNormalization())\n",
        "  model.add(MaxPooling2D(pool_size=(2,2)))\n",
        "  model.add(Dropout(0.4))\n",
        "  \n",
        "  model.add(get_conv2D(128, (3, 3)))\n",
        "  model.add(BatchNormalization())\n",
        "  model.add(get_conv2D(128, (3, 3)))\n",
        "  model.add(BatchNormalization())\n",
        "  model.add(MaxPooling2D(pool_size=(2,2)))\n",
        "  model.add(Dropout(0.4))\n",
        "  \n",
        "  model.add(get_conv2D(256, (3, 3)))\n",
        "  model.add(BatchNormalization())\n",
        "  model.add(get_conv2D(256, (3, 3)))\n",
        "  model.add(BatchNormalization())\n",
        "  model.add(MaxPooling2D(pool_size=(2,2)))\n",
        "  model.add(Dropout(0.5))\n",
        "\n",
        "  \n",
        "  model.add(Flatten())    \n",
        "  model.add(Dense(128, activation='relu', kernel_initializer='he_normal'))\n",
        "  model.add(BatchNormalization())\n",
        "  model.add(Dropout(0.6))\n",
        "  model.add(Dense(6, activation='softmax')) ###\n",
        "  model.compile(loss='categorical_crossentropy', optimizer=optim, metrics=['accuracy'])\n",
        "\n",
        "  return model\n",
        "optims = [optimizers.Adam(0.0001)]\n",
        "model = model_3(optims[0]) \n",
        "\n",
        "train_datagen = ImageDataGenerator(\n",
        "    rotation_range=15,\n",
        "    width_shift_range=0.15,\n",
        "    height_shift_range=0.15,\n",
        "    shear_range=0.15,\n",
        "    zoom_range=0.15,\n",
        "    horizontal_flip=True,\n",
        ")\n",
        "\n",
        "history = model.fit_generator(\n",
        "    train_datagen.flow(X_train, y_train, batch_size=32),\n",
        "    validation_data=(X_valid, y_valid),\n",
        "    steps_per_epoch=len(X_train) / 32,\n",
        "    epochs=100,\n",
        "    use_multiprocessing=True\n",
        ")\n",
        "for "
      ],
      "execution_count": null,
      "outputs": []
    },
    {
      "cell_type": "code",
      "metadata": {
        "id": "yWujNr1n9yNg"
      },
      "source": [
        ""
      ],
      "execution_count": null,
      "outputs": []
    },
    {
      "cell_type": "code",
      "metadata": {
        "id": "IwVE3omIgtj3"
      },
      "source": [
        "# Draw the accurecy and loss graph\n",
        "import seaborn as sns\n",
        "from matplotlib import pyplot\n",
        "\n",
        "sns.set()\n",
        "fig = pyplot.figure(0, (12, 4))\n",
        "\n",
        "ax = pyplot.subplot(1, 2, 1)\n",
        "sns.lineplot(history.epoch, history.history['accuracy'], label='train')\n",
        "sns.lineplot(history.epoch, history.history['val_accuracy'], label='valid')\n",
        "pyplot.title('Accuracy')\n",
        "pyplot.tight_layout()\n",
        "\n",
        "ax = pyplot.subplot(1, 2, 2)\n",
        "sns.lineplot(history.epoch, history.history['loss'], label='train')\n",
        "sns.lineplot(history.epoch, history.history['val_loss'], label='valid')\n",
        "pyplot.title('Loss')\n",
        "pyplot.tight_layout()\n",
        "\n",
        "pyplot.savefig('epoch_history_dcnn.png')\n",
        "pyplot.show()"
      ],
      "execution_count": null,
      "outputs": []
    },
    {
      "cell_type": "code",
      "metadata": {
        "id": "L2mq7UDuh02u"
      },
      "source": [
        "# Draw a bar chart representing the count of each emotion\n",
        "# Draw the accurecy and loss graph\n",
        "import seaborn as sns\n",
        "from matplotlib import pyplot\n",
        "\n",
        "sns.set()\n",
        "fig = pyplot.figure(0, (12, 4))\n",
        "\n",
        "sns.countplot(data_frame.emotion)\n",
        "pyplot.show()"
      ],
      "execution_count": null,
      "outputs": []
    },
    {
      "cell_type": "code",
      "metadata": {
        "id": "v-Am6LE-Vm6L"
      },
      "source": [
        "#no need it for the report\n",
        "pip install scikit-plot"
      ],
      "execution_count": null,
      "outputs": []
    },
    {
      "cell_type": "code",
      "metadata": {
        "id": "mHGG9Qee6MVt"
      },
      "source": [
        "# Draw the confusion matrix\n",
        "\n",
        "from scikitplot.metrics import plot_confusion_matrix\n",
        "plot_confusion_matrix(numpy.argmax(y_valid, axis=1), model.predict_classes(X_valid), figsize=(6,6))"
      ],
      "execution_count": null,
      "outputs": []
    },
    {
      "cell_type": "code",
      "metadata": {
        "id": "tqTRsgglgrHM"
      },
      "source": [
        "'''\n",
        "for i in range(len(X_valid)): \n",
        "    test_data = np.array(X_valid[i]).reshape(-1, row, cox, 1)\n",
        "    model_output = model.predict(test_data)\n",
        "    output_class = category_output(model_output)\n",
        "    print('Image: ',i,'model_output: ', output_class)\n",
        "\n",
        "history.save('ImageEmptionClassifierModel')\n",
        "'''\n"
      ],
      "execution_count": null,
      "outputs": []
    },
    {
      "cell_type": "code",
      "metadata": {
        "id": "iPh69WeLc0Rf"
      },
      "source": [
        "#model.save('ImageEmptionClassifierModel')\n",
        "\n",
        "save_json = model.to_json()\n",
        "with open(\"emotion.json\", \"w\") as json_file:\n",
        "    json_file.write(save_json)\n",
        "model.save_weights(\"emotion.h5\")"
      ],
      "execution_count": null,
      "outputs": []
    },
    {
      "cell_type": "code",
      "metadata": {
        "id": "eWzTLWETg6vK"
      },
      "source": [
        "## Part 1 -This was from Merian for the video - Saturday\n",
        "#model.save('ImageEmptionClassifierModel')\n",
        "from keras.models import model_from_json\n",
        "model = model_from_json(open(\"/content/emotion.json\", \"r\").read())\n",
        "model.load_weights('/content/emotion.h5') #load weights\n",
        "\n"
      ],
      "execution_count": null,
      "outputs": []
    },
    {
      "cell_type": "code",
      "metadata": {
        "id": "eUjfveR7ZllB"
      },
      "source": [
        "#no need this for the report\n",
        "import cv2\n",
        "from google.colab.patches import cv2_imshow\n",
        "face_cascade = cv2.CascadeClassifier('/content/drive/My Drive/Colab Notebooks/haarcascade_frontalface_default.xml')\n",
        "img = cv2.imread('/content/drive/My Drive/Colab Notebooks/Monaliza.jpg')\n",
        "gray = cv2.cvtColor(img, cv2.COLOR_BGR2GRAY) #transform image to gray scale\n",
        "faces = face_cascade.detectMultiScale(gray, 1.3, 5)\n",
        "for (x,y,w,h) in faces:\n",
        "  cv2.rectangle(img,(x,y),(x+w,y+h),(255,0,0),2)\n",
        "cv2_imshow(img)\n",
        "\n",
        "detected_face = img[int(y):int(y+h), int(x):int(x+w)] #crop detected face\n",
        "detected_face = cv2.cvtColor(detected_face, cv2.COLOR_BGR2GRAY) #transform to gray scale\n",
        "detected_face = cv2.resize(detected_face, (48, 48)) #resize to 48x48"
      ],
      "execution_count": null,
      "outputs": []
    },
    {
      "cell_type": "code",
      "metadata": {
        "colab": {
          "base_uri": "https://localhost:8080/",
          "height": 145
        },
        "id": "Lf9WztlWXwNS",
        "outputId": "398fed96-8467-4a17-df7a-ae32f4f69586"
      },
      "source": [
        "#no need this for the report\n",
        "from keras.preprocessing.image import ImageDataGenerator\n",
        "from keras.preprocessing import image\n",
        "import numpy as np\n",
        "img_pixels = image.img_to_array(detected_face)\n",
        "img_pixels = np.expand_dims(img_pixels, axis = 0)\n",
        " \n",
        "img_pixels /= 255\n",
        " \n",
        "predictions = model.predict(img_pixels)\n",
        " \n",
        "#find max indexed array\n",
        "max_index = np.argmax(predictions[0])\n",
        " \n",
        "emotions = ('angry', 'fear', 'happy', 'sad', 'surprise', 'neutral')\n",
        "emotion = emotions[max_index]\n",
        "\n",
        "cv2.putText(img, emotion, (int(x), int(y)), cv2.FONT_HERSHEY_SIMPLEX, 1, (255,255,255), 3)\n",
        "cv2_imshow(img)"
      ],
      "execution_count": null,
      "outputs": [
        {
          "output_type": "display_data",
          "data": {
            "image/png": "[encoded data removed]",
            "text/plain": [
              "<PIL.Image.Image image mode=RGB size=128x128 at 0x7F67C0493A20>"
            ]
          },
          "metadata": {
            "tags": []
          }
        }
      ]
    },
    {
      "cell_type": "code",
      "metadata": {
        "id": "XCRGKRMugK4O"
      },
      "source": [
        ""
      ],
      "execution_count": null,
      "outputs": []
    },
    {
      "cell_type": "code",
      "metadata": {
        "id": "E-YQtUTag1QO"
      },
      "source": [
        "#no need this for the report\n",
        "import cv2\n",
        "import numpy as np\n",
        "from keras.models import model_from_json\n",
        "from keras.preprocessing import image\n",
        "\n",
        "#load model\n",
        "model = model_from_json(open(\"emotion.json\", \"r\").read())\n",
        "#load weights\n",
        "model.load_weights('emotion.h5')\n",
        "\n",
        "\n",
        "#face_haar_cascade = cv2.CascadeClassifier('haarcascade_frontalface_default.xml')\n",
        "face_haar_cascade = cv2.CascadeClassifier(cv2.data.haarcascades + '/content/drive/My Drive/Colab Notebooks/haarcascade_frontalface_default.xml')\n",
        "\n",
        "cap=cv2.VideoCapture(0)\n",
        "\n",
        "while True:\n",
        "    ret,test_img=cap.read()# captures frame and returns boolean value and captured image\n",
        "    if not ret:\n",
        "        continue\n",
        "    gray_img= cv2.cvtColor(test_img, cv2.COLOR_BGR2GRAY)\n",
        "\n",
        "    faces_detected = face_haar_cascade.detectMultiScale(gray_img, 1.32, 5)\n",
        "\n",
        "\n",
        "    for (x,y,w,h) in faces_detected:\n",
        "        cv2.rectangle(test_img,(x,y),(x+w,y+h),(255,0,0),thickness=2)\n",
        "        roi_gray=gray_img[y:y+w,x:x+h]#cropping region of interest i.e. face area from  image\n",
        "        roi_gray=cv2.resize(roi_gray,(48,48))\n",
        "        img_pixels = image.img_to_array(roi_gray)\n",
        "        img_pixels = np.expand_dims(img_pixels, axis = 0)\n",
        "        img_pixels /= 255\n",
        "\n",
        "        predictions = model.predict(img_pixels)\n",
        "\n",
        "        #find max indexed array\n",
        "        max_index = np.argmax(predictions[0])\n",
        "\n",
        "        emotions = ('angry', 'fear', 'happy', 'sad', 'surprise', 'neutral')\n",
        "        #emotions = ('happy', 'neutral')\n",
        "\n",
        "        predicted_emotion = emotions[max_index]\n",
        "\n",
        "        cv2.putText(test_img, predicted_emotion, (int(x), int(y)), cv2.FONT_HERSHEY_SIMPLEX, 1, (0,0,255), 7)\n",
        "\n",
        "    resized_img = cv2.resize(test_img, (1000, 700))\n",
        "    cv2.imshow('Facial emotion analysis ',resized_img)\n",
        "\n",
        "\n",
        "\n",
        "    if cv2.waitKey(10) == ord('q'):#wait until 'q' key is pressed\n",
        "        break\n",
        "\n",
        "cap.release()\n",
        "cv2.destroyAllWindows"
      ],
      "execution_count": null,
      "outputs": []
    },
    {
      "cell_type": "code",
      "metadata": {
        "id": "8MqmBDCbYseB"
      },
      "source": [
        ""
      ],
      "execution_count": null,
      "outputs": []
    },
    {
      "cell_type": "code",
      "metadata": {
        "id": "eCY-_UDUYr_D"
      },
      "source": [
        ""
      ],
      "execution_count": null,
      "outputs": []
    },
    {
      "cell_type": "code",
      "metadata": {
        "id": "6X1KJ0W_cggd"
      },
      "source": [
        "#no need this for the report\n",
        "face_cascade = cv2.CascadeClassifier('/content/drive/My Drive/Colab Notebooks/haarcascade_frontalface_default.xml')"
      ],
      "execution_count": null,
      "outputs": []
    },
    {
      "cell_type": "code",
      "metadata": {
        "id": "2m2zjeb9ge7o"
      },
      "source": [
        ""
      ],
      "execution_count": null,
      "outputs": []
    },
    {
      "cell_type": "code",
      "metadata": {
        "id": "R5YEqG23gfB6"
      },
      "source": [
        ""
      ],
      "execution_count": null,
      "outputs": []
    },
    {
      "cell_type": "code",
      "metadata": {
        "id": "ub_N7Hqege_H"
      },
      "source": [
        ""
      ],
      "execution_count": null,
      "outputs": []
    },
    {
      "cell_type": "code",
      "metadata": {
        "id": "Vfk2XvctYrgj"
      },
      "source": [
        "#no need this for the report\n",
        "from google.colab import files\n",
        "file=files.upload()"
      ],
      "execution_count": null,
      "outputs": []
    },
    {
      "cell_type": "code",
      "metadata": {
        "id": "0PQZYjN3ge1O"
      },
      "source": [
        "#no need this for the report\n",
        "## Part 1 -This was from Merian for the video - Saturday\n",
        "#model.save('ImageEmptionClassifierModel')\n",
        "\n",
        "from keras.models import model_from_json\n",
        "model = model_from_json(open(\"/content/drive/MyDrive/Colab Notebooks/model.json\", \"r\").read())\n",
        "model.load_weights('/content/drive/MyDrive/Colab Notebooks/model_weight.h5') #load weights"
      ],
      "execution_count": null,
      "outputs": []
    },
    {
      "cell_type": "code",
      "metadata": {
        "id": "yrkCwIDBYrdi",
        "colab": {
          "base_uri": "https://localhost:8080/",
          "height": 405
        },
        "outputId": "97ea6264-101e-43b0-912a-25725a7ae442"
      },
      "source": [
        "\n",
        "#resource code\n",
        "#https://sefiks.com/2018/01/10/real-time-facial-expression-recognition-on-streaming-data/\n",
        "\n",
        "import cv2\n",
        "from google.colab.patches import cv2_imshow\n",
        "from keras.preprocessing.image import ImageDataGenerator\n",
        "from keras.preprocessing import image\n",
        "import numpy as np\n",
        "\n",
        "#img = cv2.imread('/content/drive/MyDrive/Colab Notebooks/mm1.jpg')\n",
        "img = cv2.imread('/content/drive/MyDrive/Colab Notebooks/mm_sad222.jpg')\n",
        "#img = cv2.imread('/content/drive/MyDrive/Colab Notebooks/mm_sad333.jpg')\n",
        "#img = cv2.imread('/content/drive/MyDrive/Colab Notebooks/mm_sad4444.jpg')\n",
        "#img = cv2.imread('/content/drive/MyDrive/Colab Notebooks/mm_angry.jpeg')\n",
        "#img = cv2.imread('/content/drive/MyDrive/Colab Notebooks/mm_happy.jpg')\n",
        "#img = cv2.imread('/content/drive/MyDrive/Colab Notebooks/mm_N.jpg')\n",
        "\n",
        "face_cascade = cv2.CascadeClassifier(cv2.data.haarcascades + 'haarcascade_frontalface_default.xml')\n",
        "gray = cv2.cvtColor(img, cv2.COLOR_BGR2GRAY) \n",
        "faces = face_cascade.detectMultiScale(gray, 1.3, 5)\n",
        "for (x,y,w,h) in faces:\n",
        "  cv2.rectangle(img,(x,y),(x+w,y+h),(255,0,0),2)\n",
        "cv2_imshow(img)\n",
        "\n",
        "face = img[int(y):int(y+h), int(x):int(x+w)]\n",
        "face = cv2.cvtColor(face, cv2.COLOR_BGR2GRAY) \n",
        "face = cv2.resize(face, (48, 48))\n",
        "\n",
        "\n",
        "\n",
        "img_pixels = image.img_to_array(face)\n",
        "img_pixels = np.expand_dims(img_pixels, axis = 0)\n",
        " \n",
        "img_pixels /= 255\n",
        " \n",
        "predictions = model.predict(img_pixels)\n",
        "\n",
        "max_index = np.argmax(predictions[0])\n",
        " \n",
        "emotions = ('angry', 'fear','happy', 'sad', 'surprise', 'neutral')\n",
        "extract = emotions[max_index]\n",
        "\n",
        "cv2.putText(img, extract, (int(x), int(y)), cv2.FONT_HERSHEY_SIMPLEX, 1, (255,0,0), 3)\n",
        "cv2_imshow(img)"
      ],
      "execution_count": null,
      "outputs": [
        {
          "output_type": "display_data",
          "data": {
            "image/png": "[encoded data removed]",
            "text/plain": [
              "<PIL.Image.Image image mode=RGB size=259x194 at 0x7F88F4190400>"
            ]
          },
          "metadata": {
            "tags": []
          }
        },
        {
          "output_type": "display_data",
          "data": {
            "image/png": "[encoded data removed]",
            "text/plain": [
              "<PIL.Image.Image image mode=RGB size=259x194 at 0x7F88F41904E0>"
            ]
          },
          "metadata": {
            "tags": []
          }
        }
      ]
    },
    {
      "cell_type": "code",
      "metadata": {
        "id": "X2GDVHk-gYGl"
      },
      "source": [
        "#no need this for the report\n",
        "from keras.preprocessing.image import ImageDataGenerator\n",
        "from keras.preprocessing import image\n",
        "import numpy as np\n",
        "img_pixels = image.img_to_array(detected_face)\n",
        "img_pixels = np.expand_dims(img_pixels, axis = 0)\n",
        " \n",
        "img_pixels /= 255\n",
        " \n",
        "predictions = model.predict(img_pixels)\n",
        " \n",
        "#find max indexed array\n",
        "max_index = np.argmax(predictions[0])\n",
        " \n",
        "emotions = ('angry', 'fear','happy', 'sad', 'surprise', 'neutral')\n",
        "emotion = emotions[max_index]\n",
        "\n",
        "cv2.putText(img, emotion, (int(x), int(y)), cv2.FONT_HERSHEY_SIMPLEX, 1, (255,0,0), 3)\n",
        "cv2_imshow(img)"
      ],
      "execution_count": null,
      "outputs": []
    },
    {
      "cell_type": "code",
      "metadata": {
        "id": "YDhBh42BZaA5"
      },
      "source": [
        "#no need this for the report\n",
        "import numpy as np\n",
        "import cv2\n",
        "\n",
        "face_cascade = cv2.CascadeClassifier('C:\\\\content\\\\drive\\\\My Drive\\\\Colab Notebooks\\\\haarcascade_frontalface_default.xml')\n",
        "\n",
        "img = cv2.imread('/content/sample_data/mm1.jpg')\n",
        "\n",
        "gray = cv2.cvtColor(img, cv2.COLOR_BGR2GRAY)\n",
        "\n",
        "faces = face_cascade.detectMultiScale(gray, 1.3, 5)\n",
        "#faces = face_cascade.detectMultiScale(gray)\n",
        "\n",
        "for (x,y,w,h) in faces:\n",
        "    cv2.rectangle(img,(x,y),(x+w,y+h),(255,0,0),2)\n",
        "    roi_gray = gray[y:y+h, x:x+w]\n",
        "    roi_color = img[y:y+h, x:x+w]\n",
        "    eyes = eye_cascade.detectMultiScale(roi_gray)\n",
        "    for (ex,ey,ew,eh) in eyes:\n",
        "        cv2.rectangle(roi_color,(ex,ey),(ex+ew,ey+eh),(0,255,0),2)\n",
        "\n",
        "cv2.imshow('img',img)\n",
        "\n",
        "k = cv2.waitKey(0)\n",
        "if k == 27:         # wait for ESC key to exit\n",
        "    cv2.destroyAllWindows()\n",
        "elif k == ord('s'): # wait for 's' key to save and exit\n",
        "    cv2.imwrite('messigray.png',img)\n",
        "    cv2.destroyAllWindows()"
      ],
      "execution_count": null,
      "outputs": []
    },
    {
      "cell_type": "code",
      "metadata": {
        "id": "foII-lqYoM9M"
      },
      "source": [
        ""
      ],
      "execution_count": null,
      "outputs": []
    },
    {
      "cell_type": "code",
      "metadata": {
        "id": "231AgJoHoNDI"
      },
      "source": [
        ""
      ],
      "execution_count": null,
      "outputs": []
    },
    {
      "cell_type": "code",
      "metadata": {
        "id": "3dUhQ_bxoM_v"
      },
      "source": [
        ""
      ],
      "execution_count": null,
      "outputs": []
    },
    {
      "cell_type": "code",
      "metadata": {
        "id": "aIwAqgjeoM6R"
      },
      "source": [
        "#no need this for the report\n",
        "import cv2\n",
        "\n",
        "def _predict(path):\n",
        "  facecasc = cv2.CascadeClassifier('C:\\\\content\\\\drive\\\\My Drive\\\\Colab Notebooks\\\\haarcascade_frontalface_default.xml')\n",
        "  imagePath = '/content/'+path\n",
        "  image = cv2.imread(imagePath)\n",
        "  gray = cv2.cvtColor(image, cv2.COLOR_BGR2GRAY)\n",
        "  faces = facecasc.detectMultiScale(gray,scaleFactor=1.3, minNeighbors=10)\n",
        "  print(\"No of faces : \",len(faces))\n",
        "  i = 1\n",
        "  for (x, y, w, h) in faces:\n",
        "    i=i+1\n",
        "    cv2.rectangle(image, (x, y), (x+w, y+h), (0, 255, 0), 2)\n",
        "    roi_gray = gray[y:y + h, x:x + w]                      #croping\n",
        "    cropped_img = np.expand_dims(np.expand_dims(cv2.resize(roi_gray, (48, 48)), -1), 0)\n",
        "    prediction = model.predict(cropped_img)\n",
        "\n",
        "    maxindex = int(np.argmax(prediction))\n",
        "    print(\"person \",i,\" : \",emotion_dict[maxindex], \"-->\",emojis[maxindex])\n",
        "    cv2.putText(image, emotion_dict[maxindex], (x+10, y-20), cv2.FONT_HERSHEY_SIMPLEX, 0.7, (255, 255, 255), 2)  \n",
        "                                              #if text is not apeared , change coordinates. it may work\n",
        "  \n",
        "  cv2.imshow(image)"
      ],
      "execution_count": null,
      "outputs": []
    },
    {
      "cell_type": "code",
      "metadata": {
        "colab": {
          "base_uri": "https://localhost:8080/",
          "height": 279
        },
        "id": "dqIftNfDoVEV",
        "outputId": "cde24b29-e053-4b58-bafd-ef4bcc1c00dc"
      },
      "source": [
        "_predict('/content/sample_data/mm_sad222.jpg')"
      ],
      "execution_count": null,
      "outputs": [
        {
          "output_type": "error",
          "ename": "error",
          "evalue": "ignored",
          "traceback": [
            "\u001b[0;31m---------------------------------------------------------------------------\u001b[0m",
            "\u001b[0;31merror\u001b[0m                                     Traceback (most recent call last)",
            "\u001b[0;32m<ipython-input-91-f45997b3e03c>\u001b[0m in \u001b[0;36m<module>\u001b[0;34m()\u001b[0m\n\u001b[0;32m----> 1\u001b[0;31m \u001b[0m_predict\u001b[0m\u001b[0;34m(\u001b[0m\u001b[0;34m'/content/sample_data/mm_sad222.jpg'\u001b[0m\u001b[0;34m)\u001b[0m\u001b[0;34m\u001b[0m\u001b[0;34m\u001b[0m\u001b[0m\n\u001b[0m",
            "\u001b[0;32m<ipython-input-90-094afa73e806>\u001b[0m in \u001b[0;36m_predict\u001b[0;34m(path)\u001b[0m\n\u001b[1;32m      5\u001b[0m   \u001b[0mimagePath\u001b[0m \u001b[0;34m=\u001b[0m \u001b[0;34m'/content/'\u001b[0m\u001b[0;34m+\u001b[0m\u001b[0mpath\u001b[0m\u001b[0;34m\u001b[0m\u001b[0;34m\u001b[0m\u001b[0m\n\u001b[1;32m      6\u001b[0m   \u001b[0mimage\u001b[0m \u001b[0;34m=\u001b[0m \u001b[0mcv2\u001b[0m\u001b[0;34m.\u001b[0m\u001b[0mimread\u001b[0m\u001b[0;34m(\u001b[0m\u001b[0mimagePath\u001b[0m\u001b[0;34m)\u001b[0m\u001b[0;34m\u001b[0m\u001b[0;34m\u001b[0m\u001b[0m\n\u001b[0;32m----> 7\u001b[0;31m   \u001b[0mgray\u001b[0m \u001b[0;34m=\u001b[0m \u001b[0mcv2\u001b[0m\u001b[0;34m.\u001b[0m\u001b[0mcvtColor\u001b[0m\u001b[0;34m(\u001b[0m\u001b[0mimage\u001b[0m\u001b[0;34m,\u001b[0m \u001b[0mcv2\u001b[0m\u001b[0;34m.\u001b[0m\u001b[0mCOLOR_BGR2GRAY\u001b[0m\u001b[0;34m)\u001b[0m\u001b[0;34m\u001b[0m\u001b[0;34m\u001b[0m\u001b[0m\n\u001b[0m\u001b[1;32m      8\u001b[0m   \u001b[0mfaces\u001b[0m \u001b[0;34m=\u001b[0m \u001b[0mfacecasc\u001b[0m\u001b[0;34m.\u001b[0m\u001b[0mdetectMultiScale\u001b[0m\u001b[0;34m(\u001b[0m\u001b[0mgray\u001b[0m\u001b[0;34m,\u001b[0m\u001b[0mscaleFactor\u001b[0m\u001b[0;34m=\u001b[0m\u001b[0;36m1.3\u001b[0m\u001b[0;34m,\u001b[0m \u001b[0mminNeighbors\u001b[0m\u001b[0;34m=\u001b[0m\u001b[0;36m10\u001b[0m\u001b[0;34m)\u001b[0m\u001b[0;34m\u001b[0m\u001b[0;34m\u001b[0m\u001b[0m\n\u001b[1;32m      9\u001b[0m   \u001b[0mprint\u001b[0m\u001b[0;34m(\u001b[0m\u001b[0;34m\"No of faces : \"\u001b[0m\u001b[0;34m,\u001b[0m\u001b[0mlen\u001b[0m\u001b[0;34m(\u001b[0m\u001b[0mfaces\u001b[0m\u001b[0;34m)\u001b[0m\u001b[0;34m)\u001b[0m\u001b[0;34m\u001b[0m\u001b[0;34m\u001b[0m\u001b[0m\n",
            "\u001b[0;31merror\u001b[0m: OpenCV(4.1.2) /io/opencv/modules/imgproc/src/color.cpp:182: error: (-215:Assertion failed) !_src.empty() in function 'cvtColor'\n"
          ]
        }
      ]
    }
  ]
}