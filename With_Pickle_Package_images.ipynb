{
  "nbformat": 4,
  "nbformat_minor": 0,
  "metadata": {
    "colab": {
      "name": "With_ready_images.ipynb",
      "provenance": [],
      "collapsed_sections": [],
      "mount_file_id": "1sFK-ovg06vgT9qm5rmPx5TvR0I59GrwB",
      "authorship_tag": "ABX9TyOOCqXJ4YU9dTQzCK/SP+pM",
      "include_colab_link": true
    },
    "kernelspec": {
      "name": "python3",
      "display_name": "Python 3"
    },
    "accelerator": "GPU"
  },
  "cells": [
    {
      "cell_type": "markdown",
      "metadata": {
        "id": "view-in-github",
        "colab_type": "text"
      },
      "source": [
        "<a href=\"https://colab.research.google.com/github/mg-789/COGNITIVE-STATE-ESTIMATION-FOR-ONLINE-MEETINGS-USING-MACHINE-LEARNING/blob/main/With_Pickle_Package_images.ipynb\" target=\"_parent\"><img src=\"https://colab.research.google.com/assets/colab-badge.svg\" alt=\"Open In Colab\"/></a>"
      ]
    },
    {
      "cell_type": "code",
      "metadata": {
        "id": "RA7TSqrcVymd"
      },
      "source": [
        "\n"
      ],
      "execution_count": null,
      "outputs": []
    },
    {
      "cell_type": "code",
      "metadata": {
        "id": "comcyd5JVBzO"
      },
      "source": [
        "\n",
        "import numpy as np\n",
        "import os\n",
        "from matplotlib import pyplot as plt\n",
        "import cv2\n",
        "import random\n",
        "import pickle\n",
        "\n",
        "file_list = []\n",
        "class_list = []\n",
        "\n",
        "DATADIR = '/content/drive/My Drive/Colab Notebooks/images/Training/'\n",
        "\n",
        "# All the categories you want your neural network to detect\n",
        "CATEGORIES = ['Happy', 'Sad', 'Fear', 'Angry', 'Surprise', 'Neutral']\n",
        "\n",
        "# The size of the images that your neural network will use\n",
        "IMG_SIZE = 48\n",
        "\n",
        "# Checking or all images in the data folder\n",
        "for category in CATEGORIES :\n",
        "\tpath = os.path.join(DATADIR, category)\n",
        "\tfor img in os.listdir(path):\n",
        "\t\timg_array = cv2.imread(os.path.join(path, img), cv2.IMREAD_GRAYSCALE)\n",
        "\n",
        "training_data = []\n",
        "\n",
        "def create_training_data():\n",
        "\tfor category in CATEGORIES :\n",
        "\t\tpath = os.path.join(DATADIR, category)\n",
        "\t\tclass_num = CATEGORIES.index(category)\n",
        "\t\tfor img in os.listdir(path):\n",
        "\t\t\ttry :\n",
        "\t\t\t\timg_array = cv2.imread(os.path.join(path, img), cv2.IMREAD_GRAYSCALE)\n",
        "\t\t\t\tnew_array = cv2.resize(img_array, (IMG_SIZE, IMG_SIZE))\n",
        "\t\t\t\ttraining_data.append([new_array, class_num])\n",
        "\t\t\texcept Exception as e:\n",
        "\t\t\t\tpass\n",
        "\n",
        "create_training_data()\n",
        "\n",
        "random.shuffle(training_data)\n",
        "\n",
        "X = [] #features\n",
        "y = [] #labels\n",
        "\n",
        "\n",
        "for features, label in training_data:\n",
        "  #X.append(np.array(features))\n",
        "  X.append(features)\n",
        "  y.append(label)\n",
        "  #np.array((y, label))\n",
        "  #y.append(np.array(label))\n",
        "\n",
        "X = np.array(X).reshape(-1, IMG_SIZE, IMG_SIZE, 1)\n",
        "\n",
        "# Creating the files containing all the information about your model\n",
        "\n",
        "\n",
        "y = np.array(y)\n",
        "pickle_out = open(\"/content/drive/My Drive/Colab Notebooks/X_train.pickle\", \"wb\")\n",
        "pickle.dump(X, pickle_out)\n",
        "pickle_out.close()\n",
        "\n",
        "pickle_out = open(\"/content/drive/My Drive/Colab Notebooks/y_train.pickle\", \"wb\")\n",
        "pickle.dump(y, pickle_out)\n",
        "pickle_out.close()\n",
        "\n",
        "pickle_in = open(\"/content/drive/My Drive/Colab Notebooks/X_train.pickle\", \"rb\")\n",
        "X = pickle.load(pickle_in)"
      ],
      "execution_count": null,
      "outputs": []
    },
    {
      "cell_type": "markdown",
      "metadata": {
        "id": "TYPOQCONQ7nc"
      },
      "source": [
        "**For Testing dataset**\n"
      ]
    },
    {
      "cell_type": "code",
      "metadata": {
        "id": "bLMrUYc8jijw"
      },
      "source": [
        "import numpy as np\n",
        "import os\n",
        "from matplotlib import pyplot as plt\n",
        "import cv2\n",
        "import random\n",
        "import pickle\n",
        "\n",
        "file_list = []\n",
        "class_list = []\n",
        "\n",
        "DATADIR = '/content/drive/My Drive/Colab Notebooks/images//Testing/'\n",
        "\n",
        "# All the categories you want your neural network to detect\n",
        "CATEGORIES = ['Happy', 'Sad', 'Fear', 'Angry', 'Surprise', 'Neutral']\n",
        "\n",
        "# The size of the images that your neural network will use\n",
        "IMG_SIZE = 48\n",
        "\n",
        "# Checking or all images in the data folder\n",
        "for category in CATEGORIES :\n",
        "\tpath = os.path.join(DATADIR, category)\n",
        "\tfor img in os.listdir(path):\n",
        "\t\timg_array = cv2.imread(os.path.join(path, img), cv2.IMREAD_GRAYSCALE)\n",
        "\n",
        "training_data = []\n",
        "\n",
        "def create_training_data():\n",
        "\tfor category in CATEGORIES :\n",
        "\t\tpath = os.path.join(DATADIR, category)\n",
        "\t\tclass_num = CATEGORIES.index(category)\n",
        "\t\tfor img in os.listdir(path):\n",
        "\t\t\ttry :\n",
        "\t\t\t\timg_array = cv2.imread(os.path.join(path, img), cv2.IMREAD_GRAYSCALE)\n",
        "\t\t\t\tnew_array = cv2.resize(img_array, (IMG_SIZE, IMG_SIZE))\n",
        "\t\t\t\ttraining_data.append([new_array, class_num])\n",
        "\t\t\texcept Exception as e:\n",
        "\t\t\t\tpass\n",
        "\n",
        "create_training_data()\n",
        "\n",
        "random.shuffle(training_data)\n",
        "\n",
        "X_t = [] #features\n",
        "y_t = [] #labels\n",
        "\n",
        "\n",
        "\n",
        "for features, label in training_data:\n",
        "  X_t.append(features)\n",
        "  y_t.append(label)\n",
        "  #np.array((y_t, label))\n",
        "\n",
        "X_t = np.array(X_t).reshape(-1, IMG_SIZE, IMG_SIZE, 1)\n",
        "\n",
        "# Creating the files containing all the information about your model\n",
        "\n",
        "y_t = np.array((y_t))\n",
        "\n",
        "pickle_out = open(\"/content/drive/My Drive/Colab Notebooks/X_test.pickle\", \"wb\")\n",
        "pickle.dump(X_t, pickle_out)\n",
        "pickle_out.close()\n",
        "\n",
        "pickle_out = open(\"/content/drive/My Drive/Colab Notebooks/y_test.pickle\", \"wb\")\n",
        "pickle.dump(y_t, pickle_out)\n",
        "pickle_out.close()\n",
        "\n",
        "pickle_in = open(\"/content/drive/My Drive/Colab Notebooks/X_test.pickle\", \"rb\")\n",
        "X_t = pickle.load(pickle_in)"
      ],
      "execution_count": null,
      "outputs": []
    },
    {
      "cell_type": "code",
      "metadata": {
        "id": "iopa_OxNYy_0",
        "colab": {
          "base_uri": "https://localhost:8080/"
        },
        "outputId": "072957fe-472d-481d-e45b-b941029e6558"
      },
      "source": [
        "print(X.shape)\n",
        "print(y.shape)\n",
        "\n",
        "print(X_test.shape)\n",
        "print(y_test.shape)"
      ],
      "execution_count": null,
      "outputs": [
        {
          "output_type": "stream",
          "text": [
            "(6000, 48, 48, 1)\n",
            "(6000,)\n",
            "(1413, 48, 48, 1)\n",
            "(1413,)\n"
          ],
          "name": "stdout"
        }
      ]
    },
    {
      "cell_type": "markdown",
      "metadata": {
        "id": "UGsTgfMLvN2N"
      },
      "source": [
        "Stat Training :)"
      ]
    },
    {
      "cell_type": "code",
      "metadata": {
        "id": "Tbh_JSpEBwzw",
        "colab": {
          "base_uri": "https://localhost:8080/"
        },
        "outputId": "dc2d190c-b89a-4b20-8d54-0877fce91dff"
      },
      "source": [
        "import cv2\n",
        "#install matplotlib to show the image\n",
        "from matplotlib import pyplot as plt\n",
        "#install numpy\n",
        "import numpy as np\n",
        "import sys\n",
        "import os\n",
        "from random import shuffle\n",
        "import pickle\n",
        "\n",
        "import keras\n",
        "from tensorflow.keras.models import Sequential \n",
        "from tensorflow.keras.layers import Conv2D, MaxPooling2D, Flatten, Dense, LSTM\n",
        "from tensorflow.keras.layers import Dropout, Input, BatchNormalization\n",
        "from sklearn.metrics import confusion_matrix, accuracy_score \n",
        "from tensorflow.keras.losses import categorical_crossentropy\n",
        "from tensorflow.keras.optimizers import Adadelta \n",
        "from tensorflow.keras import regularizers\n",
        "\n",
        "X_train = pickle.load(open(\"/content/drive/My Drive/Colab Notebooks/X_train.pickle\", \"rb\"))\n",
        "y_train = pickle.load(open(\"/content/drive/My Drive/Colab Notebooks/y_train.pickle\", \"rb\"))\n",
        "\n",
        "X_test = pickle.load(open(\"/content/drive/My Drive/Colab Notebooks/X_test.pickle\", \"rb\"))\n",
        "y_test = pickle.load(open(\"/content/drive/My Drive/Colab Notebooks/y_test.pickle\", \"rb\"))\n",
        "print(y_train)\n",
        "X_train = X_train/255.0\n",
        "\n",
        "X_test = X_test/255.0\n",
        "\n",
        "\n",
        "filters = 64\n",
        "\n",
        "row = 48\n",
        "cox = 48\n",
        "\n",
        "#n_classes = X_train.shape[1]"
      ],
      "execution_count": null,
      "outputs": [
        {
          "output_type": "stream",
          "text": [
            "[0 0 2 ... 3 3 1]\n"
          ],
          "name": "stdout"
        }
      ]
    },
    {
      "cell_type": "code",
      "metadata": {
        "id": "PIaRe-fX0LSY"
      },
      "source": [
        "!pip install tensorflow-gpu"
      ],
      "execution_count": null,
      "outputs": []
    },
    {
      "cell_type": "markdown",
      "metadata": {
        "id": "PYVNcgmGwMu5"
      },
      "source": [
        "Checking Accuracey"
      ]
    },
    {
      "cell_type": "code",
      "metadata": {
        "id": "EDhgVe_Q8eKw"
      },
      "source": [
        "import math\n",
        "import numpy as np\n",
        "import pandas as pd\n",
        "\n",
        "#import scikitplot\n",
        "import seaborn as sns\n",
        "from matplotlib import pyplot\n",
        "\n",
        "from sklearn.model_selection import train_test_split\n",
        "from sklearn.preprocessing import LabelEncoder\n",
        "from sklearn.metrics import classification_report\n",
        "\n",
        "import tensorflow as tf\n",
        "from tensorflow.keras import optimizers\n",
        "from tensorflow.keras.datasets import mnist\n",
        "from tensorflow.keras.models import Sequential\n",
        "from tensorflow.keras.layers import Flatten, Dense, Conv2D, MaxPooling2D\n",
        "from tensorflow.keras.layers import Dropout, BatchNormalization, LeakyReLU, Activation\n",
        "from tensorflow.keras.callbacks import Callback, EarlyStopping, ReduceLROnPlateau\n",
        "from tensorflow.keras.preprocessing.image import ImageDataGenerator\n",
        "\n",
        "from keras.utils import np_utils"
      ],
      "execution_count": null,
      "outputs": []
    },
    {
      "cell_type": "code",
      "metadata": {
        "id": "Sq-i2i5MTjjA"
      },
      "source": [
        "import tensorflow as tf \n",
        "\n",
        "import math\n",
        "import numpy as np\n",
        "import pandas as pd\n",
        "\n",
        "#import scikitplot\n",
        "import seaborn as sns\n",
        "from matplotlib import pyplot\n",
        "\n",
        "from sklearn.model_selection import train_test_split\n",
        "from sklearn.preprocessing import LabelEncoder\n",
        "from sklearn.metrics import classification_report\n",
        "\n",
        "import tensorflow as tf\n",
        "from tensorflow.keras import optimizers\n",
        "from tensorflow.keras.datasets import mnist\n",
        "from tensorflow.keras.models import Sequential\n",
        "from tensorflow.keras.layers import Flatten, Dense, Conv2D, MaxPooling2D\n",
        "from tensorflow.keras.layers import Dropout, BatchNormalization, LeakyReLU, Activation\n",
        "from tensorflow.keras.callbacks import Callback, EarlyStopping, ReduceLROnPlateau\n",
        "from tensorflow.keras.preprocessing.image import ImageDataGenerator\n",
        "\n",
        "from keras.utils import np_utils\n",
        "\n",
        "import keras\n",
        "\n",
        "from tensorflow.keras.models import Sequential\n",
        "from tensorflow.keras.layers import Dense, Dropout, Activation, Flatten, Conv2D, MaxPooling2D\n",
        "import pickle\n",
        "from keras.models import model_from_json\n",
        "from keras.models import load_model\n",
        "import matplotlib.pyplot as plt\n",
        "\n",
        "# Opening the files about data\n",
        "X = pickle.load(open(\"/content/drive/My Drive/Colab Notebooks/X_train.pickle\", \"rb\"))\n",
        "y = pickle.load(open(\"/content/drive/My Drive/Colab Notebooks/y_train.pickle\", \"rb\"))\n",
        "\n",
        "X_test = pickle.load(open(\"/content/drive/My Drive/Colab Notebooks/X_test.pickle\", \"rb\"))\n",
        "y_test = pickle.load(open(\"/content/drive/My Drive/Colab Notebooks/y_test.pickle\", \"rb\"))\n",
        "\n",
        "\n",
        "# normalizing data (a pixel goes from 0 to 255)\n",
        "X = X/255\n",
        "\n",
        "X_test = X_test/255\n",
        "filters = 64\n",
        "\n",
        "# The known number of output classes.\n",
        "num_classes = 6\n",
        "\n",
        "# Input image dimensions\n",
        "img_rows, img_cols = 48, 48\n",
        "\n",
        "# Channels go last for TensorFlow backend\n",
        "x_train_reshaped = X.reshape(X.shape[0], img_rows, img_cols, 1)\n",
        "x_test_reshaped = X_test.reshape(X_test.shape[0], img_rows, img_cols, 1)\n",
        "input_shape = (img_rows, img_cols, 1)\n",
        "\n",
        "# Convert class vectors to binary class matrices. This uses 1 hot encoding.\n",
        "y_train_binary = keras.utils.to_categorical(y, num_classes)\n",
        "y_test_binary = keras.utils.to_categorical(y_test, num_classes)"
      ],
      "execution_count": null,
      "outputs": []
    },
    {
      "cell_type": "code",
      "metadata": {
        "id": "p5uqsi8KZ-r4"
      },
      "source": [
        "from tensorflow.keras import optimizers\n",
        "from tensorflow.keras.callbacks import Callback, EarlyStopping, ReduceLROnPlateau\n",
        "\n",
        "from tensorflow.keras.preprocessing.image import ImageDataGenerator\n",
        "from tensorflow.keras import optimizers\n",
        "\n",
        "def get_conv2D(filters, kernel_size):\n",
        "    return Conv2D(\n",
        "          filters=filters,\n",
        "          kernel_size=kernel_size,\n",
        "          input_shape=(48, 48, 1),\n",
        "          activation='elu',\n",
        "          padding='same',\n",
        "          kernel_initializer='he_normal'\n",
        "    )\n",
        "\n",
        "\n",
        "def larger_model(optim): \n",
        "  model = Sequential()\n",
        "  model.add(get_conv2D(64, (5, 5)))\n",
        "  model.add(BatchNormalization())\n",
        "  model.add(get_conv2D(64, (5, 5)))\n",
        "  model.add(BatchNormalization())\n",
        "  model.add(MaxPooling2D(pool_size=(2,2)))\n",
        "  model.add(Dropout(0.4))\n",
        "  \n",
        "  model.add(get_conv2D(128, (3, 3)))\n",
        "  model.add(BatchNormalization())\n",
        "  model.add(get_conv2D(128, (3, 3)))\n",
        "  model.add(BatchNormalization())\n",
        "  model.add(MaxPooling2D(pool_size=(2,2)))\n",
        "  model.add(Dropout(0.4))\n",
        "  \n",
        "  model.add(get_conv2D(256, (3, 3)))\n",
        "  model.add(BatchNormalization())\n",
        "  model.add(get_conv2D(256, (3, 3)))\n",
        "  model.add(BatchNormalization())\n",
        "  model.add(MaxPooling2D(pool_size=(2,2)))\n",
        "  model.add(Dropout(0.5))\n",
        "  \n",
        "  model.add(Flatten())    \n",
        "  model.add(Dense(128, activation='elu', kernel_initializer='he_normal'))\n",
        "  model.add(BatchNormalization())\n",
        "  model.add(Dropout(0.6))\n",
        "  model.add(Dense(6, activation='softmax'))\n",
        "\n",
        "  model.compile(loss='categorical_crossentropy', optimizer=optim, metrics=['accuracy'])\n",
        "\n",
        "  return model\n",
        "# build the model\n",
        "optims = [optimizers.Adam(0.001)]\n",
        "model = larger_model(optims[0])\n",
        "\n",
        "\n",
        "early_stopping = EarlyStopping(\n",
        "    monitor='val_accuracy',\n",
        "    min_delta=0.00005,\n",
        "    patience=11,\n",
        "    verbose=1,\n",
        "    restore_best_weights=True,\n",
        ")\n",
        "\n",
        "lr_scheduler = ReduceLROnPlateau(\n",
        "    monitor='val_accuracy',\n",
        "    factor=0.5,\n",
        "    patience=7,\n",
        "    min_lr=1e-7,\n",
        "    verbose=1,\n",
        ")\n",
        "\n",
        "callbacks = [\n",
        "    early_stopping,\n",
        "    lr_scheduler,\n",
        "]\n",
        "\n",
        "train_datagen = ImageDataGenerator(\n",
        "    rotation_range=15,\n",
        "    width_shift_range=0.15,\n",
        "    height_shift_range=0.15,\n",
        "    shear_range=0.15,\n",
        "    zoom_range=0.15,\n",
        "    horizontal_flip=True,\n",
        ")\n",
        "optims = [optimizers.Adam(0.001)]\n",
        "model = larger_model(optims[0])\n",
        "'''\n",
        "history = model.fit_generator(\n",
        "    train_datagen.flow(X, y_train_binary, batch_size=32),\n",
        "    validation_data= 0.2,\n",
        "    steps_per_epoch=len(X) / 32,\n",
        "    epochs=100,\n",
        "    use_multiprocessing=True\n",
        ")\n",
        "'''\n",
        "history = model.fit(train_datagen.flow(X, y_train_binary), validation_data=(X_test, y_test_binary), shuffle=True, epochs=100, batch_size= 32,callbacks=callbacks)\n"
      ],
      "execution_count": null,
      "outputs": []
    },
    {
      "cell_type": "code",
      "metadata": {
        "id": "iRbIauOkTywX"
      },
      "source": [
        "def get_conv2D(filters, kernel_size):\n",
        "    return Conv2D(\n",
        "          filters=filters,\n",
        "          kernel_size=kernel_size,\n",
        "          input_shape=(48, 48, 1),\n",
        "          activation='elu',\n",
        "          padding='same',\n",
        "          kernel_initializer='he_normal'\n",
        "    )\n",
        "\n",
        "model = Sequential()\n",
        "\n",
        "model.add(get_conv2D(64, (5, 5)))\n",
        "model.add(BatchNormalization())\n",
        "model.add(get_conv2D(64, (5, 5)))\n",
        "model.add(BatchNormalization())\n",
        "model.add(MaxPooling2D(pool_size=(2,2)))\n",
        "model.add(Dropout(0.4))\n",
        "\n",
        "model.add(get_conv2D(128, (3, 3)))\n",
        "model.add(BatchNormalization())\n",
        "model.add(get_conv2D(128, (3, 3)))\n",
        "model.add(BatchNormalization())\n",
        "model.add(MaxPooling2D(pool_size=(2,2)))\n",
        "model.add(Dropout(0.4))\n",
        "\n",
        "model.add(get_conv2D(256, (3, 3)))\n",
        "model.add(BatchNormalization())\n",
        "model.add(get_conv2D(256, (3, 3)))\n",
        "model.add(BatchNormalization())\n",
        "model.add(MaxPooling2D(pool_size=(2,2)))\n",
        "model.add(Dropout(0.5))\n",
        "\n",
        "model.add(Flatten())    \n",
        "model.add(Dense(128, activation='elu', kernel_initializer='he_normal'))\n",
        "model.add(BatchNormalization())\n",
        "model.add(Dropout(0.6))\n",
        "model.add(Dense(6, activation='softmax')) ###\n",
        "\n",
        "model.compile(loss='categorical_crossentropy', optimizer='adam', metrics=['accuracy'])\n",
        "\n",
        "train_datagen = ImageDataGenerator(\n",
        "    rotation_range=15,\n",
        "    width_shift_range=0.15,\n",
        "    height_shift_range=0.15,\n",
        "    shear_range=0.15,\n",
        "    zoom_range=0.15,\n",
        "    horizontal_flip=True,\n",
        ")\n",
        "\n",
        "train_datagen.fit(X)\n",
        "\n",
        "history = model.fit_generator(\n",
        "    train_datagen.flow(X, y_train_binary, batch_size=32),\n",
        "    validation_data=(X_test, y_test_binary),\n",
        "    steps_per_epoch=len(X) / 32,\n",
        "    epochs=100,\n",
        "    use_multiprocessing=True\n",
        ")\n"
      ],
      "execution_count": null,
      "outputs": []
    },
    {
      "cell_type": "code",
      "metadata": {
        "colab": {
          "base_uri": "https://localhost:8080/",
          "height": 447
        },
        "id": "qrDIXLPJW0Ug",
        "outputId": "63cc9182-1046-4f30-a215-d609d7b7c71e"
      },
      "source": [
        "# Draw the accurecy and loss graph\n",
        "import seaborn as sns\n",
        "from matplotlib import pyplot\n",
        "\n",
        "sns.set()\n",
        "fig = pyplot.figure(0, (12, 4))\n",
        "\n",
        "ax = pyplot.subplot(1, 2, 1)\n",
        "sns.lineplot(history.epoch, history.history['accuracy'], label='train')\n",
        "sns.lineplot(history.epoch, history.history['val_accuracy'], label='valid')\n",
        "pyplot.title('Accuracy')\n",
        "pyplot.tight_layout()\n",
        "\n",
        "ax = pyplot.subplot(1, 2, 2)\n",
        "sns.lineplot(history.epoch, history.history['loss'], label='train')\n",
        "sns.lineplot(history.epoch, history.history['val_loss'], label='valid')\n",
        "pyplot.title('Loss')\n",
        "pyplot.tight_layout()\n",
        "\n",
        "pyplot.savefig('epoch_history_dcnn.png')\n",
        "pyplot.show()"
      ],
      "execution_count": null,
      "outputs": [
        {
          "output_type": "stream",
          "text": [
            "/usr/local/lib/python3.6/dist-packages/seaborn/_decorators.py:43: FutureWarning: Pass the following variables as keyword args: x, y. From version 0.12, the only valid positional argument will be `data`, and passing other arguments without an explicit keyword will result in an error or misinterpretation.\n",
            "  FutureWarning\n",
            "/usr/local/lib/python3.6/dist-packages/seaborn/_decorators.py:43: FutureWarning: Pass the following variables as keyword args: x, y. From version 0.12, the only valid positional argument will be `data`, and passing other arguments without an explicit keyword will result in an error or misinterpretation.\n",
            "  FutureWarning\n",
            "/usr/local/lib/python3.6/dist-packages/seaborn/_decorators.py:43: FutureWarning: Pass the following variables as keyword args: x, y. From version 0.12, the only valid positional argument will be `data`, and passing other arguments without an explicit keyword will result in an error or misinterpretation.\n",
            "  FutureWarning\n",
            "/usr/local/lib/python3.6/dist-packages/seaborn/_decorators.py:43: FutureWarning: Pass the following variables as keyword args: x, y. From version 0.12, the only valid positional argument will be `data`, and passing other arguments without an explicit keyword will result in an error or misinterpretation.\n",
            "  FutureWarning\n"
          ],
          "name": "stderr"
        },
        {
          "output_type": "display_data",
          "data": {
            "image/png": "[encoded data removed]",
            "text/plain": [
              "<Figure size 864x288 with 2 Axes>"
            ]
          },
          "metadata": {
            "tags": []
          }
        }
      ]
    },
    {
      "cell_type": "code",
      "metadata": {
        "id": "AE0Gupu5dABZ"
      },
      "source": [
        "!pip install scikitplot"
      ],
      "execution_count": null,
      "outputs": []
    },
    {
      "cell_type": "code",
      "metadata": {
        "id": "GYEu6bhJWz4f"
      },
      "source": [
        "import scikitplot\n",
        "\n",
        "yhat_valid = model.predict_classes(X_test)\n",
        "scikitplot.metrics.plot_confusion_matrix(np.argmax(X_test, axis=1), yhat_valid, figsize=(7,7))\n",
        "pyplot.savefig(\"confusion_matrix_dcnn.png\")\n",
        "\n",
        "print(f'total wrong validation predictions: {np.sum(np.argmax(X_test, axis=1) != yhat_valid)}\\n\\n')\n",
        "print(classification_report(np.argmax(X_test, axis=1), yhat_valid))"
      ],
      "execution_count": null,
      "outputs": []
    },
    {
      "cell_type": "code",
      "metadata": {
        "id": "QnZSZ9aZWzlH"
      },
      "source": [
        ""
      ],
      "execution_count": null,
      "outputs": []
    },
    {
      "cell_type": "code",
      "metadata": {
        "id": "8BG_eghZS0Xl"
      },
      "source": [
        ""
      ],
      "execution_count": null,
      "outputs": []
    },
    {
      "cell_type": "code",
      "metadata": {
        "id": "TWTTYYVDFx_D"
      },
      "source": [
        ""
      ],
      "execution_count": null,
      "outputs": []
    },
    {
      "cell_type": "code",
      "metadata": {
        "id": "2va7o3rfFxik"
      },
      "source": [
        ""
      ],
      "execution_count": null,
      "outputs": []
    },
    {
      "cell_type": "code",
      "metadata": {
        "id": "Kxm3Cp0NRjz2"
      },
      "source": [
        ""
      ],
      "execution_count": null,
      "outputs": []
    }
  ]
}